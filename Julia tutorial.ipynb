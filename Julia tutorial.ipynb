{
 "cells": [
  {
   "cell_type": "code",
   "execution_count": null,
   "metadata": {
    "collapsed": true
   },
   "outputs": [],
   "source": [
    "using PyPlot\n",
    "#load package for plotting\n",
    "# package not installed? run Pkg.add(\"PyPlot.jl\") from console"
   ]
  },
  {
   "cell_type": "code",
   "execution_count": null,
   "metadata": {
    "collapsed": false
   },
   "outputs": [],
   "source": [
    "a = [1;2;3] #a column vector"
   ]
  },
  {
   "cell_type": "code",
   "execution_count": null,
   "metadata": {
    "collapsed": false
   },
   "outputs": [],
   "source": [
    "b = [1 2 3] #a row vector"
   ]
  },
  {
   "cell_type": "code",
   "execution_count": null,
   "metadata": {
    "collapsed": false
   },
   "outputs": [],
   "source": [
    "ab = [a;b'] #concatenation"
   ]
  },
  {
   "cell_type": "code",
   "execution_count": null,
   "metadata": {
    "collapsed": false
   },
   "outputs": [],
   "source": [
    "A = [a b'] #create a matrix"
   ]
  },
  {
   "cell_type": "code",
   "execution_count": null,
   "metadata": {
    "collapsed": false
   },
   "outputs": [],
   "source": [
    "A[1,2],A[2,2] #access to an array (different parenthesis respect to matlab)"
   ]
  },
  {
   "cell_type": "code",
   "execution_count": null,
   "metadata": {
    "collapsed": false
   },
   "outputs": [],
   "source": [
    "println(\"   $(A[:,1])    $(A[1:2:end,1])    $(A[:])\")"
   ]
  },
  {
   "cell_type": "code",
   "execution_count": null,
   "metadata": {
    "collapsed": false
   },
   "outputs": [],
   "source": [
    "A = speye(10)    # sparse diagonal matrix\n",
    "typeof(A)        # you can have composite types\n",
    "#A.nzval         # with their methods (e.g. non zero values)"
   ]
  },
  {
   "cell_type": "code",
   "execution_count": null,
   "metadata": {
    "collapsed": false
   },
   "outputs": [],
   "source": [
    "Nt,Nt2 = 120,100 #touples, similar to Phython "
   ]
  },
  {
   "cell_type": "code",
   "execution_count": null,
   "metadata": {
    "collapsed": false
   },
   "outputs": [],
   "source": [
    "#let's build a function!\n",
    "function create_toeplitz(Nt,Nt2)\n",
    "    h = zeros(Nt)                 #initialize zero vector (in Matlab would be zeros(Nt,1))\n",
    "    h[3],h[10],h[14] = 1.,0.7,0.5 #we build IR here and assign some values to IR\n",
    "    H = zeros(Nt,Nt2)\n",
    "    \n",
    "    for i = 1:Nt2\n",
    "        H[i:end,i] = h[1:end-i+1]   \n",
    "    end\n",
    "    return H,h                     #return multiple stuff\n",
    "end\n",
    "# no need to create external file for a function\n",
    "# you can also create functions compactly e.g. f(x,y) = x^2+y^2\n",
    "# you can also do this: g(x,y,f) = f(x,y)+x*y"
   ]
  },
  {
   "cell_type": "code",
   "execution_count": null,
   "metadata": {
    "collapsed": false
   },
   "outputs": [],
   "source": [
    "H,h = create_toeplitz(Nt,Nt2)\n",
    "x = randn(Nt2)              #input random sequence\n",
    "y = H*x                     #convolution\n",
    "\n",
    "#plotting stuff,\n",
    "#very very similar to matlab again\n",
    "figure()\n",
    "subplot(1,3,1)\n",
    "plot(x)\n",
    "title(\"Input signal x\")\n",
    "subplot(1,3,2)\n",
    "plot(h)\n",
    "title(\"Inpulse response h\")\n",
    "subplot(1,3,3)\n",
    "plot(y)\n",
    "title(\"Output y\")"
   ]
  },
  {
   "cell_type": "code",
   "execution_count": null,
   "metadata": {
    "collapsed": false
   },
   "outputs": [],
   "source": [
    "x_tild = (H'*H+1e-8*speye(Nt2))\\(H'*y)   #solve a regularized least squares  \n",
    "\n",
    "#                      x_tild = argmin_x( 1/2|| H*x  -  y  ||_2^2 + 1/2|| x ||_2^2 )\n",
    "# note the \\ exactly like Matlab\n",
    "\n",
    "ϵ = norm(x-x_tild)^2/norm(x) #can use greek letters (latex style) e.g. \\epsilon+tab\n",
    "println(\"error ϵ: $ϵ\")\n"
   ]
  },
  {
   "cell_type": "code",
   "execution_count": null,
   "metadata": {
    "collapsed": false
   },
   "outputs": [],
   "source": [
    "#same function with other inputs\n",
    "function create_toeplitz(Nt,Nt2,h)\n",
    "    H = zeros(Nt,Nt2)\n",
    "    \n",
    "    for i = 1:Nt2\n",
    "        H[i:end,i] = h[1:end-i+1]   \n",
    "    end\n",
    "    return H\n",
    "end\n",
    "\n",
    "h = randn(Nt).*exp(-0.05*(0:Nt-1)) #more \"realisitc\" IR\n",
    "\n",
    "H = create_toeplitz(Nt,Nt2,h)\n",
    "x = randn(Nt2)              #input random sequence\n",
    "y0 = H*x\n",
    "SNR = 30\n",
    "y = y0+var(y0)*10^(-SNR/20)*randn(length(y0)) #add noise\n",
    "x_tild = (H'*H+1e-8*speye(Nt2))\\(H'*y)   #solve a regularized least squares\n",
    "\n",
    "ϵ = norm(x-x_tild)^2/norm(x)^2 #can use greek letters (latex style) e.g. \\epsilon+tab\n",
    "println(\"error ϵ: $ϵ\")\n",
    "\n",
    "figure()\n",
    "subplot(1,3,1)\n",
    "plot(x, label = \"x\")\n",
    "plot(x_tild, label = \"x_tild\")\n",
    "legend()\n",
    "title(\"Input signal x\")\n",
    "subplot(1,3,2)\n",
    "plot(H[:,1])\n",
    "title(\"Inpulse response h\")\n",
    "subplot(1,3,3)\n",
    "plot(y,label = \"y+noise\")\n",
    "plot(y0,label = \"y\")\n",
    "legend()\n",
    "title(\"Output y\")\n"
   ]
  },
  {
   "cell_type": "code",
   "execution_count": null,
   "metadata": {
    "collapsed": false
   },
   "outputs": [],
   "source": [
    "#of course we have fft as well\n",
    "yt,ht = fft([y;zeros(400)]),fft([h;zeros(400)]) #zero span\n",
    "x_tild2 = real(ifft(yt./ht))[1:Nt2]\n",
    "\n",
    "figure()\n",
    "plot(x_tild,label=\"time dom.\")\n",
    "plot(x_tild2,label=\"freq. dom.\")\n",
    "plot(x,label=\"original\")\n",
    "legend()\n",
    "\n",
    "ϵ2 = norm(x-x_tild2)^2/norm(x)^2 #can use greek letters (latex style) e.g. \\epsilon+tab\n",
    "println(\"error time domain (regularized) ϵ: $ϵ, frequency domain (unregularized) ϵ: $ϵ2\")"
   ]
  },
  {
   "cell_type": "code",
   "execution_count": null,
   "metadata": {
    "collapsed": false
   },
   "outputs": [],
   "source": [
    "using DSP  #many packages are available such as DSP for filtering\n",
    "Fs = 44e3\n",
    "s = zeros(2000)\n",
    "s[1] = 1\n",
    "\n",
    "BP = digitalfilter(Bandpass(20,1000,fs = Fs),Butterworth(10))\n",
    "s = filt(BP,s)\n",
    "t = 0:1/Fs:((length(s)-1)/Fs)\n",
    "f = linspace(0,Fs,length(s))\n",
    "\n",
    "figure()\n",
    "subplot(2,1,1)\n",
    "plot(t,s)\n",
    "subplot(2,1,2)\n",
    "plot(f,10*log10(abs(fft(s))))\n",
    "xlim([0;2e3])"
   ]
  }
 ],
 "metadata": {
  "kernelspec": {
   "display_name": "Julia 0.4.5",
   "language": "julia",
   "name": "julia-0.4"
  },
  "language_info": {
   "file_extension": ".jl",
   "mimetype": "application/julia",
   "name": "julia",
   "version": "0.4.5"
  }
 },
 "nbformat": 4,
 "nbformat_minor": 0
}
